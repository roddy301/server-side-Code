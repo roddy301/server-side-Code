{
 "cells": [
  {
   "cell_type": "code",
   "execution_count": 90,
   "metadata": {},
   "outputs": [],
   "source": [
    "import json\n",
    "import pandas as pd"
   ]
  },
  {
   "cell_type": "code",
   "execution_count": 176,
   "metadata": {},
   "outputs": [],
   "source": [
    "keyword = \"rose\""
   ]
  },
  {
   "cell_type": "code",
   "execution_count": 177,
   "metadata": {},
   "outputs": [],
   "source": [
    "def createNoteFileIfNotExist():\n",
    "    f = open(\"notes.json\",\"a+\")\n",
    "    f.close()"
   ]
  },
  {
   "cell_type": "code",
   "execution_count": 178,
   "metadata": {},
   "outputs": [],
   "source": [
    "createNoteFileIfNotExist()\n",
    "f = open(\"notes.json\",\"r\")\n",
    "data = f.readlines()\n",
    "if (len(data) == 0):\n",
    "    tempDict = {}\n",
    "    tempDict[\"key\"] = keyword\n",
    "    tempList = []\n",
    "    tempList.append(\"note\")\n",
    "    tempDict[\"note\"] = tempList\n",
    "    data = [tempDict]\n",
    "    t2={}\n",
    "    t2[\"notes\"] = data\n",
    "    js = pd.DataFrame(t2)\n",
    "    js.to_json(\"notes.json\")\n",
    "f.close()"
   ]
  },
  {
   "cell_type": "code",
   "execution_count": 179,
   "metadata": {
    "scrolled": true
   },
   "outputs": [],
   "source": [
    "js = pd.read_json('notes.json')"
   ]
  },
  {
   "cell_type": "code",
   "execution_count": 180,
   "metadata": {},
   "outputs": [
    {
     "name": "stdout",
     "output_type": "stream",
     "text": [
      "                                               notes\n",
      "0  {'key': 'earth', 'note': ['note', 'new', 'new'...\n",
      "1                {'key': 'love', 'note': ['edited']}\n",
      "                                               notes\n",
      "0  {'key': 'earth', 'note': ['note', 'new', 'new'...\n",
      "1                {'key': 'love', 'note': ['edited']}\n",
      "2                {'key': 'rose', 'note': ['edited']}\n"
     ]
    }
   ],
   "source": [
    "createNoteFileIfNotExist()\n",
    "js = pd.read_json('notes.json')\n",
    "i = 0\n",
    "flag = 0\n",
    "note = \"edited\"\n",
    "note1 = \"newEdited\"\n",
    "for i in range(len(js[\"notes\"])):\n",
    "    if (js[\"notes\"][i][\"key\"] == keyword):\n",
    "        print((js))\n",
    "        js[\"notes\"][i][\"note\"].append(\"new\")\n",
    "        flag = 1\n",
    "        js.to_json(\"notes.json\")\n",
    "    i = i + 1\n",
    "    \n",
    "if flag == 0:\n",
    "    tempMainList = []\n",
    "    tempDict = {}\n",
    "    tempDict[\"key\"] = keyword\n",
    "    tempList = []\n",
    "    tempList.append(note)\n",
    "    tempDict[\"note\"] = tempList\n",
    "    tempMainList.append(tempDict)\n",
    "    js.loc[i] = tempMainList\n",
    "    js.to_json(\"notes.json\")"
   ]
  },
  {
   "cell_type": "code",
   "execution_count": 155,
   "metadata": {},
   "outputs": [],
   "source": [
    "#js.to_json(\"notes.json\")"
   ]
  },
  {
   "cell_type": "code",
   "execution_count": 158,
   "metadata": {},
   "outputs": [
    {
     "name": "stdout",
     "output_type": "stream",
     "text": [
      "                                       notes\n",
      "0  {'key': 'earth', 'note': ['note', 'new']}\n"
     ]
    }
   ],
   "source": [
    "js = pd.read_json('notes.json')\n",
    "print(js)"
   ]
  },
  {
   "cell_type": "code",
   "execution_count": 181,
   "metadata": {},
   "outputs": [],
   "source": [
    "f = open(\"notes.json\",\"r\")\n",
    "data = f.read()\n",
    "jsonData = json.loads(data)\n",
    "f.close()"
   ]
  },
  {
   "cell_type": "code",
   "execution_count": 195,
   "metadata": {},
   "outputs": [
    {
     "name": "stdout",
     "output_type": "stream",
     "text": [
      "{'key': 'earth', 'note': ['note', 'new', 'new', 'new']}\n"
     ]
    }
   ],
   "source": [
    "print(jsonData['notes']['0'])"
   ]
  },
  {
   "cell_type": "code",
   "execution_count": 197,
   "metadata": {},
   "outputs": [
    {
     "name": "stdout",
     "output_type": "stream",
     "text": [
      "{'key': 'rose', 'note': ['edited']}\n"
     ]
    }
   ],
   "source": [
    "i = 0\n",
    "for i in range(len(jsonData['notes'])):\n",
    "    if (jsonData['notes'][str(i)]['key']) == keyword:\n",
    "        print(jsonData['notes'][str(i)])"
   ]
  },
  {
   "cell_type": "code",
   "execution_count": null,
   "metadata": {},
   "outputs": [],
   "source": []
  }
 ],
 "metadata": {
  "kernelspec": {
   "display_name": "Python 3",
   "language": "python",
   "name": "python3"
  },
  "language_info": {
   "codemirror_mode": {
    "name": "ipython",
    "version": 3
   },
   "file_extension": ".py",
   "mimetype": "text/x-python",
   "name": "python",
   "nbconvert_exporter": "python",
   "pygments_lexer": "ipython3",
   "version": "3.7.3"
  }
 },
 "nbformat": 4,
 "nbformat_minor": 2
}
